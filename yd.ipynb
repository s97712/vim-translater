{
 "cells": [
  {
   "cell_type": "code",
   "execution_count": 13,
   "metadata": {},
   "outputs": [
    {
     "name": "stdout",
     "output_type": "stream",
     "text": [
      "- f /运行/ user / 1000 / jupyter /内核- 2 d82f0fc - 9886 - 4 - df6 9 - c3b cee30cb.json——24475"
     ]
    }
   ],
   "source": [
    "import sys\n",
    "\n",
    "from urllib.parse import urlencode\n",
    "from urllib.request import Request, urlopen\n",
    "import json\n",
    "from hashlib import md5\n",
    "import time;\n",
    "import math;\n",
    "\n",
    "def URLRequest(url, params, headers={}):\n",
    "    data = urlencode(params).encode();\n",
    "    request = Request(url, data, headers)\n",
    "    res = urlopen(request).read().decode()\n",
    "    return json.loads(res);\n",
    "    \n",
    "def youdao_trans(text):\n",
    "    \n",
    "    url = \"http://fanyi.youdao.com/translate_o?smartresult=dict&smartresult=rule\"\n",
    "    verify = \"ebSeFb%=XZ%T[KZ)c(sy!\"\n",
    "    salt = str(math.floor(time.time() * 1000))\n",
    "    client = \"fanyideskweb\"\n",
    "\n",
    "    sign = md5((client + text + salt + verify).encode('utf-8')).hexdigest()\n",
    "\n",
    "    params = {\n",
    "        'i': text, \n",
    "        'from': 'AUTO', \n",
    "        'to': 'AUTO', \n",
    "        'smartresult': 'dict', \n",
    "        'client': client, \n",
    "        'salt': salt, \n",
    "        'sign': sign, \n",
    "        'doctype': 'json', \n",
    "        'version': '2.1', \n",
    "        'keyfrom': 'fanyi.web', \n",
    "        'action': 'FY_BY_CLICKBUTTION', \n",
    "        'typoResult': 'false'\n",
    "    }\n",
    "    \n",
    "    try:\n",
    "        json = URLRequest(url , params, {\n",
    "            'Referer': url,\n",
    "            'User-Agent':'Mozilla/4.0 (compatible; MSIE 9.0; Windows NT 6.1)',\n",
    "            'Cookie': 'YOUDAO_MOBILE_ACCESS_TYPE=1; OUTFOX_SEARCH_USER_ID=-123456789@0.0.0.0'\n",
    "        });\n",
    "    except Error:\n",
    "        return \"翻译失败，网络异常\"\n",
    "\n",
    "    try:\n",
    "        return json['translateResult'][0][0]['tgt']\n",
    "    except Error:\n",
    "        return \"翻译失败，API异常\"\n",
    "\n",
    "def main(argv):\n",
    "    info = youdao_trans((' '.join(argv[1:])))\n",
    "    sys.stdout.write(info)\n",
    "    \n",
    "if __name__ == \"__main__\":\n",
    "    main(sys.argv);"
   ]
  },
  {
   "cell_type": "code",
   "execution_count": null,
   "metadata": {},
   "outputs": [],
   "source": []
  },
  {
   "cell_type": "code",
   "execution_count": null,
   "metadata": {},
   "outputs": [],
   "source": []
  },
  {
   "cell_type": "code",
   "execution_count": null,
   "metadata": {},
   "outputs": [],
   "source": []
  }
 ],
 "metadata": {
  "kernelspec": {
   "display_name": "Python 3",
   "language": "python",
   "name": "python3"
  },
  "language_info": {
   "codemirror_mode": {
    "name": "ipython",
    "version": 3
   },
   "file_extension": ".py",
   "mimetype": "text/x-python",
   "name": "python",
   "nbconvert_exporter": "python",
   "pygments_lexer": "ipython3",
   "version": "3.6.5"
  }
 },
 "nbformat": 4,
 "nbformat_minor": 2
}
